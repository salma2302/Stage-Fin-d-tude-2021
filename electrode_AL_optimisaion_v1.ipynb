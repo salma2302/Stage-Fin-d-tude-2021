{
 "cells": [
  {
   "cell_type": "markdown",
   "metadata": {},
   "source": [
    "# Stage 2020-2021\n",
    "\n",
    "# Active Learning appliqué aux films conducteurs transparents "
   ]
  },
  {
   "cell_type": "markdown",
   "metadata": {},
   "source": [
    "## 1- Importation des bibliothèques nécessaires"
   ]
  },
  {
   "cell_type": "markdown",
   "metadata": {},
   "source": [
    "### a) Bibliothèques usuelles"
   ]
  },
  {
   "cell_type": "code",
   "execution_count": 1,
   "metadata": {},
   "outputs": [],
   "source": [
    "import numpy as np\n",
    "import pandas as pd\n",
    "import matplotlib.pyplot as plt\n",
    "import random"
   ]
  },
  {
   "cell_type": "markdown",
   "metadata": {},
   "source": [
    "### b) Bibliothèques du Machine Learning"
   ]
  },
  {
   "cell_type": "code",
   "execution_count": 2,
   "metadata": {},
   "outputs": [],
   "source": [
    "from sklearn.ensemble import RandomForestRegressor\n",
    "from sklearn.neighbors import KNeighborsRegressor\n",
    "from sklearn.metrics import r2_score\n",
    "from sklearn.svm import SVR"
   ]
  },
  {
   "cell_type": "markdown",
   "metadata": {},
   "source": [
    "### c) Bibliothèques de l'Active Learning"
   ]
  },
  {
   "cell_type": "code",
   "execution_count": 3,
   "metadata": {},
   "outputs": [],
   "source": [
    "from modAL.models import ActiveLearner, CommitteeRegressor\n",
    "from modAL.uncertainty import uncertainty_sampling\n",
    "from modAL.disagreement import max_std_sampling"
   ]
  },
  {
   "cell_type": "markdown",
   "metadata": {},
   "source": [
    "## 2- Importation des données "
   ]
  },
  {
   "cell_type": "code",
   "execution_count": 4,
   "metadata": {},
   "outputs": [
    {
     "data": {
      "text/html": [
       "<div>\n",
       "<style scoped>\n",
       "    .dataframe tbody tr th:only-of-type {\n",
       "        vertical-align: middle;\n",
       "    }\n",
       "\n",
       "    .dataframe tbody tr th {\n",
       "        vertical-align: top;\n",
       "    }\n",
       "\n",
       "    .dataframe thead th {\n",
       "        text-align: right;\n",
       "    }\n",
       "</style>\n",
       "<table border=\"1\" class=\"dataframe\">\n",
       "  <thead>\n",
       "    <tr style=\"text-align: right;\">\n",
       "      <th></th>\n",
       "      <th>Set</th>\n",
       "      <th>Cu_content</th>\n",
       "      <th>Temperature (°C)</th>\n",
       "      <th>Time (min)</th>\n",
       "      <th>EDTA</th>\n",
       "      <th>FoM (μS)</th>\n",
       "      <th>no.of samples</th>\n",
       "    </tr>\n",
       "  </thead>\n",
       "  <tbody>\n",
       "    <tr>\n",
       "      <th>0</th>\n",
       "      <td>1</td>\n",
       "      <td>0.65</td>\n",
       "      <td>60</td>\n",
       "      <td>30</td>\n",
       "      <td>0.02</td>\n",
       "      <td>138.0</td>\n",
       "      <td>3</td>\n",
       "    </tr>\n",
       "    <tr>\n",
       "      <th>1</th>\n",
       "      <td>2</td>\n",
       "      <td>0.65</td>\n",
       "      <td>60</td>\n",
       "      <td>60</td>\n",
       "      <td>0.03</td>\n",
       "      <td>178.0</td>\n",
       "      <td>3</td>\n",
       "    </tr>\n",
       "    <tr>\n",
       "      <th>2</th>\n",
       "      <td>3</td>\n",
       "      <td>0.65</td>\n",
       "      <td>60</td>\n",
       "      <td>90</td>\n",
       "      <td>0.07</td>\n",
       "      <td>110.0</td>\n",
       "      <td>3</td>\n",
       "    </tr>\n",
       "    <tr>\n",
       "      <th>3</th>\n",
       "      <td>4</td>\n",
       "      <td>0.65</td>\n",
       "      <td>60</td>\n",
       "      <td>120</td>\n",
       "      <td>0.10</td>\n",
       "      <td>148.0</td>\n",
       "      <td>3</td>\n",
       "    </tr>\n",
       "    <tr>\n",
       "      <th>4</th>\n",
       "      <td>5</td>\n",
       "      <td>0.65</td>\n",
       "      <td>70</td>\n",
       "      <td>30</td>\n",
       "      <td>0.03</td>\n",
       "      <td>193.0</td>\n",
       "      <td>3</td>\n",
       "    </tr>\n",
       "    <tr>\n",
       "      <th>5</th>\n",
       "      <td>6</td>\n",
       "      <td>0.65</td>\n",
       "      <td>70</td>\n",
       "      <td>60</td>\n",
       "      <td>0.07</td>\n",
       "      <td>184.0</td>\n",
       "      <td>3</td>\n",
       "    </tr>\n",
       "    <tr>\n",
       "      <th>6</th>\n",
       "      <td>7</td>\n",
       "      <td>0.65</td>\n",
       "      <td>70</td>\n",
       "      <td>90</td>\n",
       "      <td>0.10</td>\n",
       "      <td>18.2</td>\n",
       "      <td>3</td>\n",
       "    </tr>\n",
       "    <tr>\n",
       "      <th>7</th>\n",
       "      <td>8</td>\n",
       "      <td>0.65</td>\n",
       "      <td>70</td>\n",
       "      <td>120</td>\n",
       "      <td>0.02</td>\n",
       "      <td>32.8</td>\n",
       "      <td>3</td>\n",
       "    </tr>\n",
       "    <tr>\n",
       "      <th>8</th>\n",
       "      <td>9</td>\n",
       "      <td>0.65</td>\n",
       "      <td>80</td>\n",
       "      <td>30</td>\n",
       "      <td>0.07</td>\n",
       "      <td>54.0</td>\n",
       "      <td>3</td>\n",
       "    </tr>\n",
       "    <tr>\n",
       "      <th>9</th>\n",
       "      <td>10</td>\n",
       "      <td>0.65</td>\n",
       "      <td>80</td>\n",
       "      <td>60</td>\n",
       "      <td>0.10</td>\n",
       "      <td>35.2</td>\n",
       "      <td>3</td>\n",
       "    </tr>\n",
       "    <tr>\n",
       "      <th>10</th>\n",
       "      <td>11</td>\n",
       "      <td>0.65</td>\n",
       "      <td>80</td>\n",
       "      <td>90</td>\n",
       "      <td>0.02</td>\n",
       "      <td>72.0</td>\n",
       "      <td>3</td>\n",
       "    </tr>\n",
       "    <tr>\n",
       "      <th>11</th>\n",
       "      <td>12</td>\n",
       "      <td>0.65</td>\n",
       "      <td>80</td>\n",
       "      <td>120</td>\n",
       "      <td>0.03</td>\n",
       "      <td>62.9</td>\n",
       "      <td>3</td>\n",
       "    </tr>\n",
       "    <tr>\n",
       "      <th>12</th>\n",
       "      <td>13</td>\n",
       "      <td>0.65</td>\n",
       "      <td>90</td>\n",
       "      <td>30</td>\n",
       "      <td>0.10</td>\n",
       "      <td>14.8</td>\n",
       "      <td>3</td>\n",
       "    </tr>\n",
       "    <tr>\n",
       "      <th>13</th>\n",
       "      <td>14</td>\n",
       "      <td>0.65</td>\n",
       "      <td>90</td>\n",
       "      <td>60</td>\n",
       "      <td>0.02</td>\n",
       "      <td>101.0</td>\n",
       "      <td>3</td>\n",
       "    </tr>\n",
       "    <tr>\n",
       "      <th>14</th>\n",
       "      <td>15</td>\n",
       "      <td>0.65</td>\n",
       "      <td>90</td>\n",
       "      <td>90</td>\n",
       "      <td>0.03</td>\n",
       "      <td>120.0</td>\n",
       "      <td>4</td>\n",
       "    </tr>\n",
       "    <tr>\n",
       "      <th>15</th>\n",
       "      <td>16</td>\n",
       "      <td>0.65</td>\n",
       "      <td>90</td>\n",
       "      <td>120</td>\n",
       "      <td>0.07</td>\n",
       "      <td>58.1</td>\n",
       "      <td>4</td>\n",
       "    </tr>\n",
       "    <tr>\n",
       "      <th>16</th>\n",
       "      <td>17</td>\n",
       "      <td>0.85</td>\n",
       "      <td>60</td>\n",
       "      <td>30</td>\n",
       "      <td>0.02</td>\n",
       "      <td>31.0</td>\n",
       "      <td>4</td>\n",
       "    </tr>\n",
       "    <tr>\n",
       "      <th>17</th>\n",
       "      <td>18</td>\n",
       "      <td>0.85</td>\n",
       "      <td>60</td>\n",
       "      <td>60</td>\n",
       "      <td>0.03</td>\n",
       "      <td>103.0</td>\n",
       "      <td>4</td>\n",
       "    </tr>\n",
       "    <tr>\n",
       "      <th>18</th>\n",
       "      <td>19</td>\n",
       "      <td>0.85</td>\n",
       "      <td>60</td>\n",
       "      <td>90</td>\n",
       "      <td>0.07</td>\n",
       "      <td>54.4</td>\n",
       "      <td>4</td>\n",
       "    </tr>\n",
       "    <tr>\n",
       "      <th>19</th>\n",
       "      <td>20</td>\n",
       "      <td>0.85</td>\n",
       "      <td>60</td>\n",
       "      <td>120</td>\n",
       "      <td>0.10</td>\n",
       "      <td>33.9</td>\n",
       "      <td>4</td>\n",
       "    </tr>\n",
       "    <tr>\n",
       "      <th>20</th>\n",
       "      <td>21</td>\n",
       "      <td>0.85</td>\n",
       "      <td>70</td>\n",
       "      <td>30</td>\n",
       "      <td>0.03</td>\n",
       "      <td>80.4</td>\n",
       "      <td>3</td>\n",
       "    </tr>\n",
       "    <tr>\n",
       "      <th>21</th>\n",
       "      <td>22</td>\n",
       "      <td>0.85</td>\n",
       "      <td>70</td>\n",
       "      <td>60</td>\n",
       "      <td>0.07</td>\n",
       "      <td>24.9</td>\n",
       "      <td>4</td>\n",
       "    </tr>\n",
       "    <tr>\n",
       "      <th>22</th>\n",
       "      <td>23</td>\n",
       "      <td>0.85</td>\n",
       "      <td>70</td>\n",
       "      <td>90</td>\n",
       "      <td>0.10</td>\n",
       "      <td>11.0</td>\n",
       "      <td>3</td>\n",
       "    </tr>\n",
       "    <tr>\n",
       "      <th>23</th>\n",
       "      <td>24</td>\n",
       "      <td>0.85</td>\n",
       "      <td>70</td>\n",
       "      <td>120</td>\n",
       "      <td>0.02</td>\n",
       "      <td>32.0</td>\n",
       "      <td>3</td>\n",
       "    </tr>\n",
       "    <tr>\n",
       "      <th>24</th>\n",
       "      <td>25</td>\n",
       "      <td>0.85</td>\n",
       "      <td>80</td>\n",
       "      <td>30</td>\n",
       "      <td>0.07</td>\n",
       "      <td>20.7</td>\n",
       "      <td>3</td>\n",
       "    </tr>\n",
       "    <tr>\n",
       "      <th>25</th>\n",
       "      <td>26</td>\n",
       "      <td>0.85</td>\n",
       "      <td>80</td>\n",
       "      <td>60</td>\n",
       "      <td>0.10</td>\n",
       "      <td>30.2</td>\n",
       "      <td>3</td>\n",
       "    </tr>\n",
       "    <tr>\n",
       "      <th>26</th>\n",
       "      <td>27</td>\n",
       "      <td>0.85</td>\n",
       "      <td>80</td>\n",
       "      <td>90</td>\n",
       "      <td>0.02</td>\n",
       "      <td>81.9</td>\n",
       "      <td>3</td>\n",
       "    </tr>\n",
       "    <tr>\n",
       "      <th>27</th>\n",
       "      <td>28</td>\n",
       "      <td>0.85</td>\n",
       "      <td>80</td>\n",
       "      <td>120</td>\n",
       "      <td>0.03</td>\n",
       "      <td>51.1</td>\n",
       "      <td>3</td>\n",
       "    </tr>\n",
       "    <tr>\n",
       "      <th>28</th>\n",
       "      <td>29</td>\n",
       "      <td>0.85</td>\n",
       "      <td>90</td>\n",
       "      <td>30</td>\n",
       "      <td>0.10</td>\n",
       "      <td>12.2</td>\n",
       "      <td>4</td>\n",
       "    </tr>\n",
       "    <tr>\n",
       "      <th>29</th>\n",
       "      <td>30</td>\n",
       "      <td>0.85</td>\n",
       "      <td>90</td>\n",
       "      <td>60</td>\n",
       "      <td>0.02</td>\n",
       "      <td>125.0</td>\n",
       "      <td>3</td>\n",
       "    </tr>\n",
       "    <tr>\n",
       "      <th>30</th>\n",
       "      <td>31</td>\n",
       "      <td>0.85</td>\n",
       "      <td>90</td>\n",
       "      <td>90</td>\n",
       "      <td>0.03</td>\n",
       "      <td>149.0</td>\n",
       "      <td>3</td>\n",
       "    </tr>\n",
       "    <tr>\n",
       "      <th>31</th>\n",
       "      <td>32</td>\n",
       "      <td>0.85</td>\n",
       "      <td>90</td>\n",
       "      <td>120</td>\n",
       "      <td>0.07</td>\n",
       "      <td>14.1</td>\n",
       "      <td>4</td>\n",
       "    </tr>\n",
       "  </tbody>\n",
       "</table>\n",
       "</div>"
      ],
      "text/plain": [
       "    Set  Cu_content  Temperature (°C)  Time (min)  EDTA  FoM (μS)  \\\n",
       "0     1        0.65                60          30  0.02     138.0   \n",
       "1     2        0.65                60          60  0.03     178.0   \n",
       "2     3        0.65                60          90  0.07     110.0   \n",
       "3     4        0.65                60         120  0.10     148.0   \n",
       "4     5        0.65                70          30  0.03     193.0   \n",
       "5     6        0.65                70          60  0.07     184.0   \n",
       "6     7        0.65                70          90  0.10      18.2   \n",
       "7     8        0.65                70         120  0.02      32.8   \n",
       "8     9        0.65                80          30  0.07      54.0   \n",
       "9    10        0.65                80          60  0.10      35.2   \n",
       "10   11        0.65                80          90  0.02      72.0   \n",
       "11   12        0.65                80         120  0.03      62.9   \n",
       "12   13        0.65                90          30  0.10      14.8   \n",
       "13   14        0.65                90          60  0.02     101.0   \n",
       "14   15        0.65                90          90  0.03     120.0   \n",
       "15   16        0.65                90         120  0.07      58.1   \n",
       "16   17        0.85                60          30  0.02      31.0   \n",
       "17   18        0.85                60          60  0.03     103.0   \n",
       "18   19        0.85                60          90  0.07      54.4   \n",
       "19   20        0.85                60         120  0.10      33.9   \n",
       "20   21        0.85                70          30  0.03      80.4   \n",
       "21   22        0.85                70          60  0.07      24.9   \n",
       "22   23        0.85                70          90  0.10      11.0   \n",
       "23   24        0.85                70         120  0.02      32.0   \n",
       "24   25        0.85                80          30  0.07      20.7   \n",
       "25   26        0.85                80          60  0.10      30.2   \n",
       "26   27        0.85                80          90  0.02      81.9   \n",
       "27   28        0.85                80         120  0.03      51.1   \n",
       "28   29        0.85                90          30  0.10      12.2   \n",
       "29   30        0.85                90          60  0.02     125.0   \n",
       "30   31        0.85                90          90  0.03     149.0   \n",
       "31   32        0.85                90         120  0.07      14.1   \n",
       "\n",
       "    no.of samples  \n",
       "0               3  \n",
       "1               3  \n",
       "2               3  \n",
       "3               3  \n",
       "4               3  \n",
       "5               3  \n",
       "6               3  \n",
       "7               3  \n",
       "8               3  \n",
       "9               3  \n",
       "10              3  \n",
       "11              3  \n",
       "12              3  \n",
       "13              3  \n",
       "14              4  \n",
       "15              4  \n",
       "16              4  \n",
       "17              4  \n",
       "18              4  \n",
       "19              4  \n",
       "20              3  \n",
       "21              4  \n",
       "22              3  \n",
       "23              3  \n",
       "24              3  \n",
       "25              3  \n",
       "26              3  \n",
       "27              3  \n",
       "28              4  \n",
       "29              3  \n",
       "30              3  \n",
       "31              4  "
      ]
     },
     "execution_count": 4,
     "metadata": {},
     "output_type": "execute_result"
    }
   ],
   "source": [
    "data = pd.read_table(\"C:/Users/salma/OneDrive/Bureau/Stage 2020-2021/Machine Learning/Publications/Electrode_publication/Data/DOE(GSD)_1stRUN_avec32.data\", sep=',')\n",
    "data"
   ]
  },
  {
   "cell_type": "code",
   "execution_count": 5,
   "metadata": {},
   "outputs": [
    {
     "data": {
      "text/plain": [
       "(32, 7)"
      ]
     },
     "execution_count": 5,
     "metadata": {},
     "output_type": "execute_result"
    }
   ],
   "source": [
    "data.shape"
   ]
  },
  {
   "cell_type": "markdown",
   "metadata": {},
   "source": [
    "**a)** On sépare les facteurs et la variable cible."
   ]
  },
  {
   "cell_type": "code",
   "execution_count": 6,
   "metadata": {},
   "outputs": [],
   "source": [
    "X = data[[\"Cu_content\",'Temperature (°C)','Time (min)','EDTA']]\n",
    "Y = data['FoM (μS)']"
   ]
  },
  {
   "cell_type": "markdown",
   "metadata": {},
   "source": [
    "on transforme le dataframe en une matrice (numpy)"
   ]
  },
  {
   "cell_type": "code",
   "execution_count": 7,
   "metadata": {},
   "outputs": [],
   "source": [
    "X_raw=X.to_numpy()\n",
    "Y_raw=Y.to_numpy()"
   ]
  },
  {
   "cell_type": "markdown",
   "metadata": {},
   "source": [
    "**b)** On choisit les premières instances étiquetées  "
   ]
  },
  {
   "cell_type": "code",
   "execution_count": 8,
   "metadata": {},
   "outputs": [
    {
     "name": "stdout",
     "output_type": "stream",
     "text": [
      "[24, 26, 2, 16, 31]\n"
     ]
    }
   ],
   "source": [
    "racine = 0\n",
    "n_initial = X_raw.shape[0] \n",
    "size = 5\n",
    "random.seed(racine)\n",
    "lab_indices =  random.sample(range(n_initial), size)\n",
    "print(lab_indices)"
   ]
  },
  {
   "cell_type": "code",
   "execution_count": 9,
   "metadata": {},
   "outputs": [],
   "source": [
    "# Les données étiquetées.\n",
    "X_lab = X_raw[lab_indices]\n",
    "Y_lab = Y_raw[lab_indices] "
   ]
  },
  {
   "cell_type": "code",
   "execution_count": 10,
   "metadata": {},
   "outputs": [],
   "source": [
    "# Les données non-étiquetées.\n",
    "X_unlab = np.delete(X_raw, lab_indices, axis=0) \n",
    "Y_unlab = np.delete(Y_raw, lab_indices, axis=0)"
   ]
  },
  {
   "cell_type": "code",
   "execution_count": 11,
   "metadata": {},
   "outputs": [
    {
     "data": {
      "text/plain": [
       "array([138. , 178. , 148. , 193. , 184. ,  18.2,  32.8,  54. ,  35.2,\n",
       "        72. ,  62.9,  14.8, 101. , 120. ,  58.1, 103. ,  54.4,  33.9,\n",
       "        80.4,  24.9,  11. ,  32. ,  30.2,  51.1,  12.2, 125. , 149. ])"
      ]
     },
     "execution_count": 11,
     "metadata": {},
     "output_type": "execute_result"
    }
   ],
   "source": [
    "Y_unlab"
   ]
  },
  {
   "cell_type": "markdown",
   "metadata": {},
   "source": [
    "# Active Learning :"
   ]
  },
  {
   "cell_type": "code",
   "execution_count": 12,
   "metadata": {},
   "outputs": [],
   "source": [
    "def strat_max(pred, X_unlab, Y_unlab) :\n",
    "    m = max(pred)\n",
    "    query_index = np.argmax(pred)\n",
    "    query_instance = X_unlab[query_index]\n",
    "    label_index = Y_unlab[query_index]\n",
    "    return query_index, query_instance, m"
   ]
  },
  {
   "cell_type": "code",
   "execution_count": 13,
   "metadata": {},
   "outputs": [],
   "source": [
    "model = RandomForestRegressor(random_state=0)\n",
    "model.fit(X_lab,Y_lab)\n",
    "pred = model.predict(X_unlab)\n",
    "query_index_init, query_instance_init, label_index_init = strat_max(pred, X_unlab, Y_unlab)"
   ]
  },
  {
   "cell_type": "code",
   "execution_count": 14,
   "metadata": {},
   "outputs": [
    {
     "name": "stdout",
     "output_type": "stream",
     "text": [
      "5\n",
      "[65.501 65.501 77.551 65.501 63.74  80.12  55.647 55.647 84.314 76.41\n",
      " 52.888 61.215 82.413 65.176 41.957 58.9   51.055 41.957 37.952 58.9\n",
      " 56.509 30.805 57.242 26.105 41.078 60.451]\n",
      "8\n",
      "[71.8426 71.8426 92.6318 68.9484 67.5792 83.1761 59.4557 63.8662 80.6171\n",
      " 59.4391 62.1812 77.2111 68.0334 43.59   63.745  62.6597 42.3709 38.9867\n",
      " 63.6508 58.1665 36.7345 58.3565 31.0154 38.4277 55.9508]\n",
      "2\n",
      "[74.549   74.549   70.63394 70.42182 85.61188 67.00326 67.76786 82.76458\n",
      " 65.63672 66.04324 83.4733  78.71782 37.692   54.0757  49.8991  37.65184\n",
      " 31.5675  52.4555  54.61864 31.8909  55.98042 28.6619  38.41014 58.84242]\n",
      "4\n",
      "[74.474294 74.474294 70.163018 71.229294 65.136396 65.338922 84.739942\n",
      " 60.533484 60.67956  79.65592  77.779914 39.759    59.02699  55.17834\n",
      " 38.70084  33.035118 56.24119  60.288624 31.161836 61.973514 25.286818\n",
      " 35.72514  57.93156 ]\n",
      "6\n",
      "[71.1249124 71.1249124 64.6650324 62.886232  58.574738  58.749838\n",
      " 54.107718  58.417434  76.9585704 71.5133116 44.0621188 62.4047448\n",
      " 56.5210676 41.951294  32.4990376 54.4306636 64.3128    29.90768\n",
      " 67.7772768 24.3947    40.991     60.60656  ]\n",
      "8\n",
      "[75.3850648  75.38060484 67.08702288 66.07126942 63.5241873  63.5241873\n",
      " 57.88470846 59.5529923  73.96452036 44.9771188  58.467562   54.5756128\n",
      " 42.304294   31.4616188  50.0207088  63.76930484 30.33363884 68.85191278\n",
      " 21.55414    38.20214    56.08421884]\n",
      "0\n",
      "[77.40870082 69.31338336 68.99198431 65.9045764  65.5572124  60.15848099\n",
      " 61.48602742 74.32389444 43.7871188  53.00529    48.6847508  42.1594752\n",
      " 29.493118   46.463654   62.86098684 28.24223942 65.4969376  21.9315857\n",
      " 40.24934282 57.93959632]\n",
      "0\n",
      "[75.29043275 82.67104454 81.02048555 76.25765755 71.6036785  69.93544105\n",
      " 80.75526929 42.49020778 53.332954   46.627014   43.16662528 32.90195194\n",
      " 46.78369    59.09613936 31.66815007 65.08119007 24.46165065 42.061574\n",
      " 59.43845632]\n",
      "1\n",
      "[75.03182999 80.88036988 81.58097933 71.6128095  74.87404818 83.68071321\n",
      " 51.58581416 48.82094471 43.74190101 45.43832723 43.97829202 43.9808397\n",
      " 60.00218238 41.09179202 65.4123466  25.61635065 54.8202672  60.7370569 ]\n",
      "5\n",
      "[75.50754729 78.03480817 84.60596316 72.81115212 75.17841646 55.39319987\n",
      " 54.81675296 49.94988584 43.37924937 45.89126424 49.25598534 64.56338064\n",
      " 45.28303756 65.90414544 23.81582749 50.12834246 56.27747119]\n",
      "2\n",
      "[75.58355469 76.27060015 73.20240743 75.96421522 55.58334922 50.33734795\n",
      " 45.55033616 43.29583763 44.59192534 45.40948245 59.19614277 46.65606091\n",
      " 62.63004152 25.63650328 55.13211546 59.26971408]\n",
      "1\n",
      "[75.89895111 72.7677926  76.11381688 56.4411752  51.37720396 45.75055617\n",
      " 43.82025852 45.7327228  46.8910259  58.68200381 46.15790366 62.02198891\n",
      " 25.41663136 54.02369181 58.64112838]\n",
      "2\n",
      "[74.39421628 74.48558702 51.56721811 46.99943504 43.66858002 40.98795924\n",
      " 38.18746013 42.58848934 56.30087927 38.14142532 60.49058745 21.98040971\n",
      " 47.62039869 52.77775776]\n",
      "1\n",
      "[74.74884101 48.58012574 43.55857902 39.74953901 39.10534495 36.53786726\n",
      " 40.14703726 53.59715524 35.98978495 57.18860727 21.577118   45.75360687\n",
      " 52.96296197]\n",
      "0\n",
      "[46.31780774 42.46787402 40.63457942 39.08425795 34.83830345 39.60504771\n",
      " 55.78187462 35.55828369 57.15088789 22.95527361 43.69186507 53.2315238 ]\n"
     ]
    }
   ],
   "source": [
    "n_queries = 15\n",
    "performance = []\n",
    "y_pred_max = [label_index_init]\n",
    "for index in range(n_queries):\n",
    "    model = RandomForestRegressor(random_state=0)\n",
    "    model.fit(X_lab,Y_lab)\n",
    "    query_index, query_instance, label_i = strat_max(pred, X_unlab, Y_unlab)\n",
    "    print(query_index)\n",
    "# Teach our ActiveLearner model the record it has requested.\n",
    "    y_pred_max.append(label_i)\n",
    "    X_lab, Y_lab= np.vstack([X_lab, query_instance]), np.hstack([Y_lab, label_i])    \n",
    "    X_unlab, Y_unlab = np.delete(X_unlab, query_index, axis=0), np.delete(Y_unlab, query_index)\n",
    "    # Remove the queried instance from the unlabeled pool.\n",
    "    #print(predictions)\n",
    "    pred = model.predict(X_unlab)\n",
    "    print(pred)\n",
    "    score = model.score(X,Y)\n",
    "    performance.append(score)\n",
    "    lab_indices.append(query_index)"
   ]
  },
  {
   "cell_type": "code",
   "execution_count": 18,
   "metadata": {},
   "outputs": [
    {
     "data": {
      "text/plain": [
       "Text(0, 0.5, 'PCE prédit')"
      ]
     },
     "execution_count": 18,
     "metadata": {},
     "output_type": "execute_result"
    },
    {
     "data": {
      "image/png": "[encoded data removed]",
      "text/plain": [
       "<Figure size 432x288 with 1 Axes>"
      ]
     },
     "metadata": {
      "needs_background": "light"
     },
     "output_type": "display_data"
    }
   ],
   "source": [
    "plt.title(\"L'optimum des prédictions du modèle en fonction du nombre d'itératoins\")\n",
    "plt.plot(np.arange(n_queries+1), y_pred_max, 'b')\n",
    "plt.plot(np.arange(n_queries+1), y_pred_max, 'ro')\n",
    "plt.xticks(np.linspace(0,n_queries,n_queries+1,endpoint=True))\n",
    "plt.xlabel(\"Nombres d'itérations\")\n",
    "plt.ylabel(\"PCE prédit\")"
   ]
  },
  {
   "cell_type": "code",
   "execution_count": 17,
   "metadata": {},
   "outputs": [
    {
     "data": {
      "text/plain": [
       "Text(0, 0.5, 'La performance du modèle')"
      ]
     },
     "execution_count": 17,
     "metadata": {},
     "output_type": "execute_result"
    },
    {
     "data": {
      "image/png": "[encoded data removed]",
      "text/plain": [
       "<Figure size 432x288 with 1 Axes>"
      ]
     },
     "metadata": {
      "needs_background": "light"
     },
     "output_type": "display_data"
    }
   ],
   "source": [
    "plt.title(\"Les performances du modèle en fonction du nombre de requêtes\")\n",
    "plt.plot(np.arange(n_queries), performance)\n",
    "plt.xticks(np.linspace(0,n_queries,n_queries+1,endpoint=True))\n",
    "plt.xlabel(\"Nombres de requêtes\")\n",
    "plt.ylabel(\"La performance du modèle\")"
   ]
  },
  {
   "cell_type": "code",
   "execution_count": null,
   "metadata": {},
   "outputs": [],
   "source": []
  },
  {
   "cell_type": "code",
   "execution_count": null,
   "metadata": {},
   "outputs": [],
   "source": []
  },
  {
   "cell_type": "code",
   "execution_count": null,
   "metadata": {},
   "outputs": [],
   "source": []
  },
  {
   "cell_type": "code",
   "execution_count": null,
   "metadata": {},
   "outputs": [],
   "source": []
  },
  {
   "cell_type": "code",
   "execution_count": null,
   "metadata": {},
   "outputs": [],
   "source": []
  },
  {
   "cell_type": "code",
   "execution_count": null,
   "metadata": {},
   "outputs": [],
   "source": [
    "n_queries = 15\n",
    "racine = 0\n",
    "performance = []\n",
    "for index in range(n_queries):\n",
    "    model = RandomForestRegressor(random_state = racine)\n",
    "    model.fit(X_lab,Y_lab)\n",
    "    pred = model.predict(X_unlab)\n",
    "    score = model.score(X_unlab,Y_unlab)\n",
    "    performance.append(score)\n",
    "    print(pred)\n",
    "    query_index, query_instance, label_i = strat_max(pred, X_unlab, Y_unlab)\n",
    "    print(query_index)\n",
    "# Teach our ActiveLearner model the record it has requested.\n",
    "    X_new, Y_new = X_unlab[query_index].reshape(1, -1), Y_unlab[query_index].reshape(1, )\n",
    "    #committee1.teach(X=X_new, y=Y_new)\n",
    "    # Remove the queried instance from the unlabeled pool.\n",
    "    #print(predictions)\n",
    "    plt.figure(figsize=(25, 25))\n",
    "    plt.subplot(5,4,index+1)\n",
    "    for label, data in data.groupby('Set'): \n",
    "        p1, = plt.plot(Y_unlab, pred, 'ko')\n",
    "        #plt.plot(Y_unlab[query_index], )\n",
    "        #p2, = plt.plot(Y_lab,pred[lab_indices],'ro')\n",
    "        p3, = plt.plot(Y[query_index], pred[query_index], 'go')\n",
    "        plt.title('iteration no %d' % (index+1))\n",
    "    #X_unlab, Y_unlab = np.delete(X_unlab, query_index, axis=0), np.delete(Y_unlab, query_index)\n",
    "    X_lab, Y_lab= np.vstack([X_lab, query_instance]), np.hstack([Y_lab, label_i])    \n",
    "    plt.plot([-1, 200], [-1, 200], ls = \"--\", c = \".3\")  \n",
    "    plt.autoscale(enable = False)                    \n",
    "    plt.legend([p1,p3],[\"le jeu de données\",\"données rajoutées\"], loc ='upper left')\n",
    "    plt.xlim(0,200)                             \n",
    "    plt.ylim(0,200)\n",
    "    plt.xticks(fontsize = 15)\n",
    "    plt.yticks(fontsize = 15)\n",
    "    font = {'size': 15}\n",
    "    plt.xlabel(r'Measured pce', font)\n",
    "    plt.ylabel(r'Predicted pce', font)"
   ]
  }
 ],
 "metadata": {
  "kernelspec": {
   "display_name": "Python 3",
   "language": "python",
   "name": "python3"
  },
  "language_info": {
   "codemirror_mode": {
    "name": "ipython",
    "version": 3
   },
   "file_extension": ".py",
   "mimetype": "text/x-python",
   "name": "python",
   "nbconvert_exporter": "python",
   "pygments_lexer": "ipython3",
   "version": "3.8.5"
  }
 },
 "nbformat": 4,
 "nbformat_minor": 4
}
