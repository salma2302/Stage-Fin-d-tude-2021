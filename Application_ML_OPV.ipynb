{
 "cells": [
  {
   "cell_type": "markdown",
   "metadata": {},
   "source": [
    "# Stage de fin d'étude  2020-2021\n",
    "# Salma CHAFAI \n"
   ]
  },
  {
   "cell_type": "markdown",
   "metadata": {},
   "source": [
    "# Optimisation des matériaux et les appareils en utilisant le d'expériences (DoE) et l'apprentissage automatique (AA) (ML : Machine Learning) : \n",
    "\n",
    "# Premier exemple : Les cellules photovoltaïques organiques (OPV) \n",
    "\n"
   ]
  },
  {
   "cell_type": "markdown",
   "metadata": {},
   "source": [
    "# Notre approche"
   ]
  },
  {
   "cell_type": "markdown",
   "metadata": {},
   "source": [
    "## 1 - Importation des bibliothèques utilisées :"
   ]
  },
  {
   "cell_type": "markdown",
   "metadata": {},
   "source": [
    "### (a) Bibliothèques usuelles"
   ]
  },
  {
   "cell_type": "code",
   "execution_count": 1,
   "metadata": {},
   "outputs": [],
   "source": [
    "import pandas as pd\n",
    "import numpy as np \n",
    "import matplotlib.pyplot as plt\n",
    "import matplotlib as mpl\n",
    "import seaborn as sns\n",
    "from math import sqrt"
   ]
  },
  {
   "cell_type": "markdown",
   "metadata": {},
   "source": [
    "### (b) Bibliothèques statistiques "
   ]
  },
  {
   "cell_type": "code",
   "execution_count": 2,
   "metadata": {},
   "outputs": [],
   "source": [
    "import statsmodels.api as sm\n",
    "from statsmodels.formula.api import ols"
   ]
  },
  {
   "cell_type": "markdown",
   "metadata": {},
   "source": [
    "### (c) Bibliothèques de l'apprenrissage artificiel "
   ]
  },
  {
   "cell_type": "code",
   "execution_count": 3,
   "metadata": {},
   "outputs": [],
   "source": [
    "from sklearn.preprocessing import MinMaxScaler, StandardScaler\n",
    "from sklearn.pipeline import Pipeline"
   ]
  },
  {
   "cell_type": "markdown",
   "metadata": {},
   "source": [
    "#### Mesures de performance et des erreurs du modèle"
   ]
  },
  {
   "cell_type": "code",
   "execution_count": 4,
   "metadata": {},
   "outputs": [],
   "source": [
    "from sklearn.model_selection import GridSearchCV\n",
    "from sklearn.model_selection import cross_val_score\n",
    "from sklearn.metrics import mean_squared_error, mean_absolute_error, r2_score"
   ]
  },
  {
   "cell_type": "markdown",
   "metadata": {},
   "source": [
    "#### Les modèles de l'apprentissage artificiel utilisés"
   ]
  },
  {
   "cell_type": "code",
   "execution_count": 5,
   "metadata": {},
   "outputs": [],
   "source": [
    "from sklearn.tree import DecisionTreeRegressor, plot_tree\n",
    "from sklearn.ensemble import RandomForestRegressor\n",
    "from sklearn.svm import SVR\n",
    "from sklearn.datasets import make_regression"
   ]
  },
  {
   "cell_type": "markdown",
   "metadata": {},
   "source": [
    "## 2. Les données  du problème"
   ]
  },
  {
   "cell_type": "markdown",
   "metadata": {},
   "source": [
    "### (a) Statistiques des données"
   ]
  },
  {
   "cell_type": "code",
   "execution_count": 6,
   "metadata": {},
   "outputs": [
    {
     "data": {
      "text/html": [
       "<div>\n",
       "<style scoped>\n",
       "    .dataframe tbody tr th:only-of-type {\n",
       "        vertical-align: middle;\n",
       "    }\n",
       "\n",
       "    .dataframe tbody tr th {\n",
       "        vertical-align: top;\n",
       "    }\n",
       "\n",
       "    .dataframe thead th {\n",
       "        text-align: right;\n",
       "    }\n",
       "</style>\n",
       "<table border=\"1\" class=\"dataframe\">\n",
       "  <thead>\n",
       "    <tr style=\"text-align: right;\">\n",
       "      <th></th>\n",
       "      <th>exp</th>\n",
       "      <th>don_con</th>\n",
       "      <th>total_con</th>\n",
       "      <th>spin_s</th>\n",
       "      <th>addive</th>\n",
       "      <th>pce</th>\n",
       "      <th>nb_dev</th>\n",
       "    </tr>\n",
       "  </thead>\n",
       "  <tbody>\n",
       "    <tr>\n",
       "      <th>0</th>\n",
       "      <td>1</td>\n",
       "      <td>10</td>\n",
       "      <td>20</td>\n",
       "      <td>3000</td>\n",
       "      <td>2</td>\n",
       "      <td>0.05000</td>\n",
       "      <td>14</td>\n",
       "    </tr>\n",
       "    <tr>\n",
       "      <th>1</th>\n",
       "      <td>2</td>\n",
       "      <td>10</td>\n",
       "      <td>25</td>\n",
       "      <td>1000</td>\n",
       "      <td>8</td>\n",
       "      <td>3.24000</td>\n",
       "      <td>10</td>\n",
       "    </tr>\n",
       "    <tr>\n",
       "      <th>2</th>\n",
       "      <td>3</td>\n",
       "      <td>10</td>\n",
       "      <td>10</td>\n",
       "      <td>600</td>\n",
       "      <td>0</td>\n",
       "      <td>0.01600</td>\n",
       "      <td>14</td>\n",
       "    </tr>\n",
       "    <tr>\n",
       "      <th>3</th>\n",
       "      <td>4</td>\n",
       "      <td>10</td>\n",
       "      <td>15</td>\n",
       "      <td>2000</td>\n",
       "      <td>12</td>\n",
       "      <td>0.00040</td>\n",
       "      <td>10</td>\n",
       "    </tr>\n",
       "    <tr>\n",
       "      <th>4</th>\n",
       "      <td>5</td>\n",
       "      <td>25</td>\n",
       "      <td>20</td>\n",
       "      <td>600</td>\n",
       "      <td>12</td>\n",
       "      <td>7.14000</td>\n",
       "      <td>8</td>\n",
       "    </tr>\n",
       "    <tr>\n",
       "      <th>5</th>\n",
       "      <td>6</td>\n",
       "      <td>25</td>\n",
       "      <td>15</td>\n",
       "      <td>1000</td>\n",
       "      <td>2</td>\n",
       "      <td>3.22000</td>\n",
       "      <td>8</td>\n",
       "    </tr>\n",
       "    <tr>\n",
       "      <th>6</th>\n",
       "      <td>7</td>\n",
       "      <td>25</td>\n",
       "      <td>10</td>\n",
       "      <td>3000</td>\n",
       "      <td>8</td>\n",
       "      <td>0.00033</td>\n",
       "      <td>14</td>\n",
       "    </tr>\n",
       "    <tr>\n",
       "      <th>7</th>\n",
       "      <td>8</td>\n",
       "      <td>25</td>\n",
       "      <td>25</td>\n",
       "      <td>2000</td>\n",
       "      <td>0</td>\n",
       "      <td>7.21000</td>\n",
       "      <td>11</td>\n",
       "    </tr>\n",
       "    <tr>\n",
       "      <th>8</th>\n",
       "      <td>9</td>\n",
       "      <td>40</td>\n",
       "      <td>10</td>\n",
       "      <td>1000</td>\n",
       "      <td>12</td>\n",
       "      <td>1.85000</td>\n",
       "      <td>3</td>\n",
       "    </tr>\n",
       "    <tr>\n",
       "      <th>9</th>\n",
       "      <td>10</td>\n",
       "      <td>40</td>\n",
       "      <td>20</td>\n",
       "      <td>2000</td>\n",
       "      <td>8</td>\n",
       "      <td>6.16000</td>\n",
       "      <td>12</td>\n",
       "    </tr>\n",
       "    <tr>\n",
       "      <th>10</th>\n",
       "      <td>11</td>\n",
       "      <td>40</td>\n",
       "      <td>25</td>\n",
       "      <td>600</td>\n",
       "      <td>2</td>\n",
       "      <td>3.90000</td>\n",
       "      <td>11</td>\n",
       "    </tr>\n",
       "    <tr>\n",
       "      <th>11</th>\n",
       "      <td>12</td>\n",
       "      <td>40</td>\n",
       "      <td>15</td>\n",
       "      <td>3000</td>\n",
       "      <td>0</td>\n",
       "      <td>2.27000</td>\n",
       "      <td>9</td>\n",
       "    </tr>\n",
       "    <tr>\n",
       "      <th>12</th>\n",
       "      <td>13</td>\n",
       "      <td>55</td>\n",
       "      <td>10</td>\n",
       "      <td>2000</td>\n",
       "      <td>2</td>\n",
       "      <td>1.16000</td>\n",
       "      <td>3</td>\n",
       "    </tr>\n",
       "    <tr>\n",
       "      <th>13</th>\n",
       "      <td>14</td>\n",
       "      <td>55</td>\n",
       "      <td>15</td>\n",
       "      <td>600</td>\n",
       "      <td>8</td>\n",
       "      <td>3.18000</td>\n",
       "      <td>10</td>\n",
       "    </tr>\n",
       "    <tr>\n",
       "      <th>14</th>\n",
       "      <td>15</td>\n",
       "      <td>55</td>\n",
       "      <td>20</td>\n",
       "      <td>1000</td>\n",
       "      <td>0</td>\n",
       "      <td>3.89000</td>\n",
       "      <td>13</td>\n",
       "    </tr>\n",
       "  </tbody>\n",
       "</table>\n",
       "</div>"
      ],
      "text/plain": [
       "    exp  don_con  total_con  spin_s  addive      pce  nb_dev\n",
       "0     1       10         20    3000       2  0.05000      14\n",
       "1     2       10         25    1000       8  3.24000      10\n",
       "2     3       10         10     600       0  0.01600      14\n",
       "3     4       10         15    2000      12  0.00040      10\n",
       "4     5       25         20     600      12  7.14000       8\n",
       "5     6       25         15    1000       2  3.22000       8\n",
       "6     7       25         10    3000       8  0.00033      14\n",
       "7     8       25         25    2000       0  7.21000      11\n",
       "8     9       40         10    1000      12  1.85000       3\n",
       "9    10       40         20    2000       8  6.16000      12\n",
       "10   11       40         25     600       2  3.90000      11\n",
       "11   12       40         15    3000       0  2.27000       9\n",
       "12   13       55         10    2000       2  1.16000       3\n",
       "13   14       55         15     600       8  3.18000      10\n",
       "14   15       55         20    1000       0  3.89000      13"
      ]
     },
     "execution_count": 6,
     "metadata": {},
     "output_type": "execute_result"
    }
   ],
   "source": [
    "df = pd.read_csv(\"C:/Users/salma/OneDrive/Bureau/Stage 2020-2021/Machine Learning/Publications/OPV_publication/Data/table1_1.csv\")\n",
    "df"
   ]
  },
  {
   "cell_type": "code",
   "execution_count": 7,
   "metadata": {},
   "outputs": [
    {
     "name": "stdout",
     "output_type": "stream",
     "text": [
      "<class 'pandas.core.frame.DataFrame'>\n",
      "RangeIndex: 15 entries, 0 to 14\n",
      "Data columns (total 7 columns):\n",
      " #   Column     Non-Null Count  Dtype  \n",
      "---  ------     --------------  -----  \n",
      " 0   exp        15 non-null     int64  \n",
      " 1   don_con    15 non-null     int64  \n",
      " 2   total_con  15 non-null     int64  \n",
      " 3   spin_s     15 non-null     int64  \n",
      " 4   addive     15 non-null     int64  \n",
      " 5   pce        15 non-null     float64\n",
      " 6   nb_dev     15 non-null     int64  \n",
      "dtypes: float64(1), int64(6)\n",
      "memory usage: 968.0 bytes\n"
     ]
    }
   ],
   "source": [
    "# Informations sur les attributs\n",
    "df.info()"
   ]
  },
  {
   "cell_type": "code",
   "execution_count": 8,
   "metadata": {},
   "outputs": [
    {
     "data": {
      "text/html": [
       "<div>\n",
       "<style scoped>\n",
       "    .dataframe tbody tr th:only-of-type {\n",
       "        vertical-align: middle;\n",
       "    }\n",
       "\n",
       "    .dataframe tbody tr th {\n",
       "        vertical-align: top;\n",
       "    }\n",
       "\n",
       "    .dataframe thead th {\n",
       "        text-align: right;\n",
       "    }\n",
       "</style>\n",
       "<table border=\"1\" class=\"dataframe\">\n",
       "  <thead>\n",
       "    <tr style=\"text-align: right;\">\n",
       "      <th></th>\n",
       "      <th>exp</th>\n",
       "      <th>don_con</th>\n",
       "      <th>total_con</th>\n",
       "      <th>spin_s</th>\n",
       "      <th>addive</th>\n",
       "      <th>pce</th>\n",
       "      <th>nb_dev</th>\n",
       "    </tr>\n",
       "  </thead>\n",
       "  <tbody>\n",
       "    <tr>\n",
       "      <th>count</th>\n",
       "      <td>15.000000</td>\n",
       "      <td>15.000000</td>\n",
       "      <td>15.000000</td>\n",
       "      <td>15.000000</td>\n",
       "      <td>15.000000</td>\n",
       "      <td>15.000000</td>\n",
       "      <td>15.00000</td>\n",
       "    </tr>\n",
       "    <tr>\n",
       "      <th>mean</th>\n",
       "      <td>8.000000</td>\n",
       "      <td>31.000000</td>\n",
       "      <td>17.000000</td>\n",
       "      <td>1560.000000</td>\n",
       "      <td>5.066667</td>\n",
       "      <td>2.885782</td>\n",
       "      <td>10.00000</td>\n",
       "    </tr>\n",
       "    <tr>\n",
       "      <th>std</th>\n",
       "      <td>4.472136</td>\n",
       "      <td>16.818357</td>\n",
       "      <td>5.606119</td>\n",
       "      <td>923.347946</td>\n",
       "      <td>4.772940</td>\n",
       "      <td>2.496247</td>\n",
       "      <td>3.48466</td>\n",
       "    </tr>\n",
       "    <tr>\n",
       "      <th>min</th>\n",
       "      <td>1.000000</td>\n",
       "      <td>10.000000</td>\n",
       "      <td>10.000000</td>\n",
       "      <td>600.000000</td>\n",
       "      <td>0.000000</td>\n",
       "      <td>0.000330</td>\n",
       "      <td>3.00000</td>\n",
       "    </tr>\n",
       "    <tr>\n",
       "      <th>25%</th>\n",
       "      <td>4.500000</td>\n",
       "      <td>17.500000</td>\n",
       "      <td>12.500000</td>\n",
       "      <td>800.000000</td>\n",
       "      <td>1.000000</td>\n",
       "      <td>0.605000</td>\n",
       "      <td>8.50000</td>\n",
       "    </tr>\n",
       "    <tr>\n",
       "      <th>50%</th>\n",
       "      <td>8.000000</td>\n",
       "      <td>25.000000</td>\n",
       "      <td>15.000000</td>\n",
       "      <td>1000.000000</td>\n",
       "      <td>2.000000</td>\n",
       "      <td>3.180000</td>\n",
       "      <td>10.00000</td>\n",
       "    </tr>\n",
       "    <tr>\n",
       "      <th>75%</th>\n",
       "      <td>11.500000</td>\n",
       "      <td>40.000000</td>\n",
       "      <td>20.000000</td>\n",
       "      <td>2000.000000</td>\n",
       "      <td>8.000000</td>\n",
       "      <td>3.895000</td>\n",
       "      <td>12.50000</td>\n",
       "    </tr>\n",
       "    <tr>\n",
       "      <th>max</th>\n",
       "      <td>15.000000</td>\n",
       "      <td>55.000000</td>\n",
       "      <td>25.000000</td>\n",
       "      <td>3000.000000</td>\n",
       "      <td>12.000000</td>\n",
       "      <td>7.210000</td>\n",
       "      <td>14.00000</td>\n",
       "    </tr>\n",
       "  </tbody>\n",
       "</table>\n",
       "</div>"
      ],
      "text/plain": [
       "             exp    don_con  total_con       spin_s     addive        pce  \\\n",
       "count  15.000000  15.000000  15.000000    15.000000  15.000000  15.000000   \n",
       "mean    8.000000  31.000000  17.000000  1560.000000   5.066667   2.885782   \n",
       "std     4.472136  16.818357   5.606119   923.347946   4.772940   2.496247   \n",
       "min     1.000000  10.000000  10.000000   600.000000   0.000000   0.000330   \n",
       "25%     4.500000  17.500000  12.500000   800.000000   1.000000   0.605000   \n",
       "50%     8.000000  25.000000  15.000000  1000.000000   2.000000   3.180000   \n",
       "75%    11.500000  40.000000  20.000000  2000.000000   8.000000   3.895000   \n",
       "max    15.000000  55.000000  25.000000  3000.000000  12.000000   7.210000   \n",
       "\n",
       "         nb_dev  \n",
       "count  15.00000  \n",
       "mean   10.00000  \n",
       "std     3.48466  \n",
       "min     3.00000  \n",
       "25%     8.50000  \n",
       "50%    10.00000  \n",
       "75%    12.50000  \n",
       "max    14.00000  "
      ]
     },
     "execution_count": 8,
     "metadata": {},
     "output_type": "execute_result"
    }
   ],
   "source": [
    "# Les statistiques du jeu de données :\n",
    "df.describe()"
   ]
  },
  {
   "cell_type": "code",
   "execution_count": 9,
   "metadata": {},
   "outputs": [
    {
     "data": {
      "text/plain": [
       "array([[<AxesSubplot:title={'center':'don_con'}>,\n",
       "        <AxesSubplot:title={'center':'total_con'}>],\n",
       "       [<AxesSubplot:title={'center':'spin_s'}>,\n",
       "        <AxesSubplot:title={'center':'addive'}>],\n",
       "       [<AxesSubplot:title={'center':'pce'}>, <AxesSubplot:>]],\n",
       "      dtype=object)"
      ]
     },
     "execution_count": 9,
     "metadata": {},
     "output_type": "execute_result"
    },
    {
     "data": {
      "image/png": "[encoded data removed]",
      "text/plain": [
       "<Figure size 1440x1080 with 6 Axes>"
      ]
     },
     "metadata": {
      "needs_background": "light"
     },
     "output_type": "display_data"
    }
   ],
   "source": [
    "# L'histogramme \n",
    "df1 = df[['don_con','total_con','spin_s','addive','pce']]\n",
    "df1.hist(bins=50, figsize=(20, 15))"
   ]
  },
  {
   "cell_type": "code",
   "execution_count": 10,
   "metadata": {},
   "outputs": [
    {
     "data": {
      "text/html": [
       "<div>\n",
       "<style scoped>\n",
       "    .dataframe tbody tr th:only-of-type {\n",
       "        vertical-align: middle;\n",
       "    }\n",
       "\n",
       "    .dataframe tbody tr th {\n",
       "        vertical-align: top;\n",
       "    }\n",
       "\n",
       "    .dataframe thead th {\n",
       "        text-align: right;\n",
       "    }\n",
       "</style>\n",
       "<table border=\"1\" class=\"dataframe\">\n",
       "  <thead>\n",
       "    <tr style=\"text-align: right;\">\n",
       "      <th></th>\n",
       "      <th>exp</th>\n",
       "      <th>don_con</th>\n",
       "      <th>total_con</th>\n",
       "      <th>spin_s</th>\n",
       "      <th>addive</th>\n",
       "      <th>pce</th>\n",
       "      <th>nb_dev</th>\n",
       "    </tr>\n",
       "  </thead>\n",
       "  <tbody>\n",
       "    <tr>\n",
       "      <th>0</th>\n",
       "      <td>1</td>\n",
       "      <td>10</td>\n",
       "      <td>20</td>\n",
       "      <td>3000</td>\n",
       "      <td>2</td>\n",
       "      <td>0.05000</td>\n",
       "      <td>14</td>\n",
       "    </tr>\n",
       "    <tr>\n",
       "      <th>1</th>\n",
       "      <td>2</td>\n",
       "      <td>10</td>\n",
       "      <td>25</td>\n",
       "      <td>1000</td>\n",
       "      <td>8</td>\n",
       "      <td>3.24000</td>\n",
       "      <td>10</td>\n",
       "    </tr>\n",
       "    <tr>\n",
       "      <th>2</th>\n",
       "      <td>3</td>\n",
       "      <td>10</td>\n",
       "      <td>10</td>\n",
       "      <td>600</td>\n",
       "      <td>0</td>\n",
       "      <td>0.01600</td>\n",
       "      <td>14</td>\n",
       "    </tr>\n",
       "    <tr>\n",
       "      <th>3</th>\n",
       "      <td>4</td>\n",
       "      <td>10</td>\n",
       "      <td>15</td>\n",
       "      <td>2000</td>\n",
       "      <td>12</td>\n",
       "      <td>0.00040</td>\n",
       "      <td>10</td>\n",
       "    </tr>\n",
       "    <tr>\n",
       "      <th>4</th>\n",
       "      <td>5</td>\n",
       "      <td>25</td>\n",
       "      <td>20</td>\n",
       "      <td>600</td>\n",
       "      <td>12</td>\n",
       "      <td>7.14000</td>\n",
       "      <td>8</td>\n",
       "    </tr>\n",
       "    <tr>\n",
       "      <th>5</th>\n",
       "      <td>6</td>\n",
       "      <td>25</td>\n",
       "      <td>15</td>\n",
       "      <td>1000</td>\n",
       "      <td>2</td>\n",
       "      <td>3.22000</td>\n",
       "      <td>8</td>\n",
       "    </tr>\n",
       "    <tr>\n",
       "      <th>6</th>\n",
       "      <td>7</td>\n",
       "      <td>25</td>\n",
       "      <td>10</td>\n",
       "      <td>3000</td>\n",
       "      <td>8</td>\n",
       "      <td>0.00033</td>\n",
       "      <td>14</td>\n",
       "    </tr>\n",
       "    <tr>\n",
       "      <th>7</th>\n",
       "      <td>8</td>\n",
       "      <td>25</td>\n",
       "      <td>25</td>\n",
       "      <td>2000</td>\n",
       "      <td>0</td>\n",
       "      <td>7.21000</td>\n",
       "      <td>11</td>\n",
       "    </tr>\n",
       "    <tr>\n",
       "      <th>8</th>\n",
       "      <td>9</td>\n",
       "      <td>40</td>\n",
       "      <td>10</td>\n",
       "      <td>1000</td>\n",
       "      <td>12</td>\n",
       "      <td>1.85000</td>\n",
       "      <td>3</td>\n",
       "    </tr>\n",
       "    <tr>\n",
       "      <th>9</th>\n",
       "      <td>10</td>\n",
       "      <td>40</td>\n",
       "      <td>20</td>\n",
       "      <td>2000</td>\n",
       "      <td>8</td>\n",
       "      <td>6.16000</td>\n",
       "      <td>12</td>\n",
       "    </tr>\n",
       "    <tr>\n",
       "      <th>10</th>\n",
       "      <td>11</td>\n",
       "      <td>40</td>\n",
       "      <td>25</td>\n",
       "      <td>600</td>\n",
       "      <td>2</td>\n",
       "      <td>3.90000</td>\n",
       "      <td>11</td>\n",
       "    </tr>\n",
       "    <tr>\n",
       "      <th>11</th>\n",
       "      <td>12</td>\n",
       "      <td>40</td>\n",
       "      <td>15</td>\n",
       "      <td>3000</td>\n",
       "      <td>0</td>\n",
       "      <td>2.27000</td>\n",
       "      <td>9</td>\n",
       "    </tr>\n",
       "    <tr>\n",
       "      <th>12</th>\n",
       "      <td>13</td>\n",
       "      <td>55</td>\n",
       "      <td>10</td>\n",
       "      <td>2000</td>\n",
       "      <td>2</td>\n",
       "      <td>1.16000</td>\n",
       "      <td>3</td>\n",
       "    </tr>\n",
       "    <tr>\n",
       "      <th>13</th>\n",
       "      <td>14</td>\n",
       "      <td>55</td>\n",
       "      <td>15</td>\n",
       "      <td>600</td>\n",
       "      <td>8</td>\n",
       "      <td>3.18000</td>\n",
       "      <td>10</td>\n",
       "    </tr>\n",
       "    <tr>\n",
       "      <th>14</th>\n",
       "      <td>15</td>\n",
       "      <td>55</td>\n",
       "      <td>20</td>\n",
       "      <td>1000</td>\n",
       "      <td>0</td>\n",
       "      <td>3.89000</td>\n",
       "      <td>13</td>\n",
       "    </tr>\n",
       "  </tbody>\n",
       "</table>\n",
       "</div>"
      ],
      "text/plain": [
       "    exp  don_con  total_con  spin_s  addive      pce  nb_dev\n",
       "0     1       10         20    3000       2  0.05000      14\n",
       "1     2       10         25    1000       8  3.24000      10\n",
       "2     3       10         10     600       0  0.01600      14\n",
       "3     4       10         15    2000      12  0.00040      10\n",
       "4     5       25         20     600      12  7.14000       8\n",
       "5     6       25         15    1000       2  3.22000       8\n",
       "6     7       25         10    3000       8  0.00033      14\n",
       "7     8       25         25    2000       0  7.21000      11\n",
       "8     9       40         10    1000      12  1.85000       3\n",
       "9    10       40         20    2000       8  6.16000      12\n",
       "10   11       40         25     600       2  3.90000      11\n",
       "11   12       40         15    3000       0  2.27000       9\n",
       "12   13       55         10    2000       2  1.16000       3\n",
       "13   14       55         15     600       8  3.18000      10\n",
       "14   15       55         20    1000       0  3.89000      13"
      ]
     },
     "execution_count": 10,
     "metadata": {},
     "output_type": "execute_result"
    }
   ],
   "source": [
    "# Input contains NaN, infinity or a value too large for dtype('float64')\n",
    "df['pce'] = df['pce'].astype(float)  \n",
    "df"
   ]
  },
  {
   "cell_type": "markdown",
   "metadata": {},
   "source": [
    "#### Corrélation"
   ]
  },
  {
   "cell_type": "code",
   "execution_count": 11,
   "metadata": {},
   "outputs": [
    {
     "data": {
      "text/html": [
       "<div>\n",
       "<style scoped>\n",
       "    .dataframe tbody tr th:only-of-type {\n",
       "        vertical-align: middle;\n",
       "    }\n",
       "\n",
       "    .dataframe tbody tr th {\n",
       "        vertical-align: top;\n",
       "    }\n",
       "\n",
       "    .dataframe thead th {\n",
       "        text-align: right;\n",
       "    }\n",
       "</style>\n",
       "<table border=\"1\" class=\"dataframe\">\n",
       "  <thead>\n",
       "    <tr style=\"text-align: right;\">\n",
       "      <th></th>\n",
       "      <th>don_con</th>\n",
       "      <th>total_con</th>\n",
       "      <th>spin_s</th>\n",
       "      <th>addive</th>\n",
       "      <th>pce</th>\n",
       "    </tr>\n",
       "  </thead>\n",
       "  <tbody>\n",
       "    <tr>\n",
       "      <th>don_con</th>\n",
       "      <td>1.000000</td>\n",
       "      <td>-0.136364</td>\n",
       "      <td>-0.149028</td>\n",
       "      <td>-0.138812</td>\n",
       "      <td>0.255689</td>\n",
       "    </tr>\n",
       "    <tr>\n",
       "      <th>total_con</th>\n",
       "      <td>-0.136364</td>\n",
       "      <td>1.000000</td>\n",
       "      <td>-0.149028</td>\n",
       "      <td>-0.138812</td>\n",
       "      <td>0.653303</td>\n",
       "    </tr>\n",
       "    <tr>\n",
       "      <th>spin_s</th>\n",
       "      <td>-0.149028</td>\n",
       "      <td>-0.149028</td>\n",
       "      <td>1.000000</td>\n",
       "      <td>-0.151704</td>\n",
       "      <td>-0.333572</td>\n",
       "    </tr>\n",
       "    <tr>\n",
       "      <th>addive</th>\n",
       "      <td>-0.138812</td>\n",
       "      <td>-0.138812</td>\n",
       "      <td>-0.151704</td>\n",
       "      <td>1.000000</td>\n",
       "      <td>0.035179</td>\n",
       "    </tr>\n",
       "    <tr>\n",
       "      <th>pce</th>\n",
       "      <td>0.255689</td>\n",
       "      <td>0.653303</td>\n",
       "      <td>-0.333572</td>\n",
       "      <td>0.035179</td>\n",
       "      <td>1.000000</td>\n",
       "    </tr>\n",
       "  </tbody>\n",
       "</table>\n",
       "</div>"
      ],
      "text/plain": [
       "            don_con  total_con    spin_s    addive       pce\n",
       "don_con    1.000000  -0.136364 -0.149028 -0.138812  0.255689\n",
       "total_con -0.136364   1.000000 -0.149028 -0.138812  0.653303\n",
       "spin_s    -0.149028  -0.149028  1.000000 -0.151704 -0.333572\n",
       "addive    -0.138812  -0.138812 -0.151704  1.000000  0.035179\n",
       "pce        0.255689   0.653303 -0.333572  0.035179  1.000000"
      ]
     },
     "execution_count": 11,
     "metadata": {},
     "output_type": "execute_result"
    }
   ],
   "source": [
    "df1.corr()"
   ]
  },
  {
   "cell_type": "code",
   "execution_count": 12,
   "metadata": {},
   "outputs": [
    {
     "data": {
      "text/plain": [
       "<AxesSubplot:title={'center':'Corrélation des variables'}>"
      ]
     },
     "execution_count": 12,
     "metadata": {},
     "output_type": "execute_result"
    },
    {
     "data": {
      "image/png": "[encoded data removed]",
      "text/plain": [
       "<Figure size 720x504 with 2 Axes>"
      ]
     },
     "metadata": {
      "needs_background": "light"
     },
     "output_type": "display_data"
    }
   ],
   "source": [
    "plt.figure(figsize=(10,7))\n",
    "plt.title('Corrélation des variables')\n",
    "sns.heatmap(df1.corr())"
   ]
  },
  {
   "cell_type": "markdown",
   "metadata": {},
   "source": [
    "#### Boxplots :  "
   ]
  },
  {
   "cell_type": "code",
   "execution_count": 13,
   "metadata": {},
   "outputs": [
    {
     "data": {
      "text/plain": [
       "{'whiskers': [<matplotlib.lines.Line2D at 0x1619957a7c0>,\n",
       "  <matplotlib.lines.Line2D at 0x1619957ab20>,\n",
       "  <matplotlib.lines.Line2D at 0x1619958ce20>,\n",
       "  <matplotlib.lines.Line2D at 0x16199599190>,\n",
       "  <matplotlib.lines.Line2D at 0x161995a63a0>,\n",
       "  <matplotlib.lines.Line2D at 0x161995a66d0>,\n",
       "  <matplotlib.lines.Line2D at 0x161995b28e0>,\n",
       "  <matplotlib.lines.Line2D at 0x161995b2c10>,\n",
       "  <matplotlib.lines.Line2D at 0x161995bee20>,\n",
       "  <matplotlib.lines.Line2D at 0x161995cc190>],\n",
       " 'caps': [<matplotlib.lines.Line2D at 0x1619957ae80>,\n",
       "  <matplotlib.lines.Line2D at 0x1619958c220>,\n",
       "  <matplotlib.lines.Line2D at 0x161995994c0>,\n",
       "  <matplotlib.lines.Line2D at 0x161995997f0>,\n",
       "  <matplotlib.lines.Line2D at 0x161995a6a00>,\n",
       "  <matplotlib.lines.Line2D at 0x161995a6d30>,\n",
       "  <matplotlib.lines.Line2D at 0x161995b2f40>,\n",
       "  <matplotlib.lines.Line2D at 0x161995be2b0>,\n",
       "  <matplotlib.lines.Line2D at 0x161995cc4c0>,\n",
       "  <matplotlib.lines.Line2D at 0x161995cc7f0>],\n",
       " 'boxes': [<matplotlib.patches.PathPatch at 0x1619957a430>,\n",
       "  <matplotlib.patches.PathPatch at 0x1619957ad30>,\n",
       "  <matplotlib.patches.PathPatch at 0x1619958cd00>,\n",
       "  <matplotlib.patches.PathPatch at 0x161995a6ee0>,\n",
       "  <matplotlib.patches.PathPatch at 0x161995b2dc0>],\n",
       " 'medians': [<matplotlib.lines.Line2D at 0x1619958c580>,\n",
       "  <matplotlib.lines.Line2D at 0x16199599b20>,\n",
       "  <matplotlib.lines.Line2D at 0x161995b20a0>,\n",
       "  <matplotlib.lines.Line2D at 0x161995be5e0>,\n",
       "  <matplotlib.lines.Line2D at 0x161995ccb20>],\n",
       " 'fliers': [<matplotlib.lines.Line2D at 0x1619958c8e0>,\n",
       "  <matplotlib.lines.Line2D at 0x16199599e50>,\n",
       "  <matplotlib.lines.Line2D at 0x161995b23d0>,\n",
       "  <matplotlib.lines.Line2D at 0x161995be910>,\n",
       "  <matplotlib.lines.Line2D at 0x161995cce50>],\n",
       " 'means': []}"
      ]
     },
     "execution_count": 13,
     "metadata": {},
     "output_type": "execute_result"
    },
    {
     "data": {
      "image/png": "[encoded data removed]",
      "text/plain": [
       "<Figure size 720x504 with 1 Axes>"
      ]
     },
     "metadata": {
      "needs_background": "light"
     },
     "output_type": "display_data"
    }
   ],
   "source": [
    "minmax_scale = MinMaxScaler().fit(df1)\n",
    "df_new = minmax_scale.transform(df1)\n",
    "plt.figure(figsize=(10,7))\n",
    "plt.title('Boxplot')\n",
    "green_diamond = dict(markerfacecolor='r', marker='D')\n",
    "plt.boxplot(df_new,flierprops=green_diamond, patch_artist=True, labels=['don_con','total_con','spin_s','addive','pce'], vert = 0)"
   ]
  },
  {
   "cell_type": "markdown",
   "metadata": {},
   "source": [
    "# Visualisation des données :"
   ]
  },
  {
   "cell_type": "code",
   "execution_count": 14,
   "metadata": {},
   "outputs": [
    {
     "data": {
      "text/plain": [
       "<seaborn.axisgrid.PairGrid at 0x161995d7310>"
      ]
     },
     "execution_count": 14,
     "metadata": {},
     "output_type": "execute_result"
    },
    {
     "data": {
      "text/plain": [
       "<Figure size 720x504 with 0 Axes>"
      ]
     },
     "metadata": {},
     "output_type": "display_data"
    },
    {
     "data": {
      "image/png": "[encoded data removed]",
      "text/plain": [
       "<Figure size 900x900 with 30 Axes>"
      ]
     },
     "metadata": {
      "needs_background": "light"
     },
     "output_type": "display_data"
    }
   ],
   "source": [
    "plt.figure(figsize=(10,7))\n",
    "sns.pairplot(df1) #donne une figure sur laquelle on peut voir toutes les relations entre les différentes variables"
   ]
  },
  {
   "cell_type": "markdown",
   "metadata": {},
   "source": [
    "## 3- Les modèles de l'apprentissage artificiel (AA) :"
   ]
  },
  {
   "cell_type": "code",
   "execution_count": 60,
   "metadata": {},
   "outputs": [],
   "source": [
    "data = pd.read_csv(\"C:/Users/salma/OneDrive/Bureau/Stage 2020-2021/Machine Learning/Publications/OPV_publication/Data/table1_1.csv\")\n",
    "X = data[['don_con','total_con','spin_s']]\n",
    "Y = data['pce']\n",
    "\n",
    "# Base d'apprentissage et base de test\n",
    "from sklearn.model_selection import train_test_split\n",
    "X_train, X_test, Y_train, Y_test = train_test_split(X, Y, test_size = 0.2, random_state=2)"
   ]
  },
  {
   "cell_type": "markdown",
   "metadata": {},
   "source": [
    "## SVM :"
   ]
  },
  {
   "cell_type": "code",
   "execution_count": 61,
   "metadata": {},
   "outputs": [
    {
     "name": "stdout",
     "output_type": "stream",
     "text": [
      "[LibSVM]"
     ]
    },
    {
     "data": {
      "text/plain": [
       "Pipeline(steps=[('scl', StandardScaler()),\n",
       "                ('clf', SVR(C=40, epsilon=0.7, kernel='linear', verbose=True))])"
      ]
     },
     "execution_count": 61,
     "metadata": {},
     "output_type": "execute_result"
    }
   ],
   "source": [
    "\n",
    " \n",
    "model_svr = Pipeline([('scl', StandardScaler()),('clf', SVR(kernel='linear', gamma='scale', C=40, epsilon = 0.7,verbose=True))])\n",
    "model_svr.fit(X_train, Y_train)\n"
   ]
  },
  {
   "cell_type": "code",
   "execution_count": 62,
   "metadata": {},
   "outputs": [
    {
     "name": "stdout",
     "output_type": "stream",
     "text": [
      "[1.63980951 2.55943154 1.30572208]\n"
     ]
    }
   ],
   "source": [
    "y_pred_svm = model_svr.predict(X_test)\n",
    "print(y_pred_svm)"
   ]
  },
  {
   "cell_type": "code",
   "execution_count": 63,
   "metadata": {},
   "outputs": [
    {
     "name": "stdout",
     "output_type": "stream",
     "text": [
      "mse =  8.347735797381796\n",
      "rmse = 2.889244848984211\n"
     ]
    }
   ],
   "source": [
    "mse_svm=mean_squared_error(Y_test,y_pred_svm)\n",
    "print('mse = ',mse_svm)\n",
    "rmse_svm = sqrt(mse_svm)\n",
    "print('rmse =', rmse_svm)"
   ]
  },
  {
   "cell_type": "code",
   "execution_count": 64,
   "metadata": {},
   "outputs": [
    {
     "name": "stdout",
     "output_type": "stream",
     "text": [
      "mae = 2.3750122873619275\n"
     ]
    }
   ],
   "source": [
    "from sklearn.metrics import mean_absolute_error\n",
    "mae_svm=mean_absolute_error(Y_test,y_pred_svm)\n",
    "print('mae =',mae_svm)"
   ]
  },
  {
   "cell_type": "code",
   "execution_count": 65,
   "metadata": {},
   "outputs": [
    {
     "name": "stdout",
     "output_type": "stream",
     "text": [
      "R^2 = -0.8789075665970463\n"
     ]
    }
   ],
   "source": [
    "from sklearn.metrics import r2_score\n",
    "r2_svm=r2_score(Y_test,y_pred_svm)\n",
    "print('R^2 =', r2_svm)"
   ]
  },
  {
   "cell_type": "markdown",
   "metadata": {},
   "source": [
    "# Arbre de décision :"
   ]
  },
  {
   "cell_type": "code",
   "execution_count": 66,
   "metadata": {},
   "outputs": [
    {
     "data": {
      "text/plain": [
       "DecisionTreeRegressor()"
      ]
     },
     "execution_count": 66,
     "metadata": {},
     "output_type": "execute_result"
    }
   ],
   "source": [
    "model_arbre=DecisionTreeRegressor()\n",
    "model_arbre.fit(X_train,Y_train)"
   ]
  },
  {
   "cell_type": "code",
   "execution_count": 67,
   "metadata": {},
   "outputs": [],
   "source": [
    "y_pred_arbre = model_arbre.predict(X_test)"
   ]
  },
  {
   "cell_type": "code",
   "execution_count": 68,
   "metadata": {},
   "outputs": [
    {
     "name": "stdout",
     "output_type": "stream",
     "text": [
      "mean squared error : 8.767905333333333\n",
      "rmse: 2.9610648985345347\n"
     ]
    }
   ],
   "source": [
    "#Model evaluating for test set\n",
    "from sklearn.metrics import mean_squared_error\n",
    "from math import sqrt\n",
    "mse_arbre=mean_squared_error(Y_test,y_pred_arbre)\n",
    "print('mean squared error :',mse_arbre)\n",
    "rmse_arbre = sqrt(mse_arbre)\n",
    "print('rmse:',rmse_arbre)"
   ]
  },
  {
   "cell_type": "code",
   "execution_count": 69,
   "metadata": {},
   "outputs": [
    {
     "name": "stdout",
     "output_type": "stream",
     "text": [
      "mae = 2.671333333333333\n"
     ]
    }
   ],
   "source": [
    "from sklearn.metrics import mean_absolute_error\n",
    "mae_arbre=mean_absolute_error(Y_test,y_pred_arbre)\n",
    "print('mae =',mae_arbre)"
   ]
  },
  {
   "cell_type": "code",
   "execution_count": 70,
   "metadata": {},
   "outputs": [
    {
     "name": "stdout",
     "output_type": "stream",
     "text": [
      "R^2 =  -0.9734792851462271\n"
     ]
    }
   ],
   "source": [
    "from sklearn.metrics import r2_score  \n",
    "r2_arbre=r2_score(Y_test,y_pred_arbre)\n",
    "print('R^2 = ',r2_arbre)"
   ]
  },
  {
   "cell_type": "code",
   "execution_count": 71,
   "metadata": {},
   "outputs": [
    {
     "data": {
      "image/png": "[encoded data removed]",
      "text/plain": [
       "<Figure size 792x504 with 1 Axes>"
      ]
     },
     "metadata": {
      "needs_background": "light"
     },
     "output_type": "display_data"
    }
   ],
   "source": [
    "plt.figure(figsize=(11,7))\n",
    "plot_tree(model_arbre,feature_names = list(X.columns),filled=True)\n",
    "plt.show()"
   ]
  },
  {
   "cell_type": "markdown",
   "metadata": {},
   "source": [
    "## Forêt aléatoire"
   ]
  },
  {
   "cell_type": "code",
   "execution_count": 72,
   "metadata": {},
   "outputs": [
    {
     "data": {
      "text/plain": [
       "GridSearchCV(cv=5, estimator=RandomForestRegressor(),\n",
       "             param_grid={'random_state': array([0, 1, 2, 3, 4, 5, 6, 7, 8, 9])})"
      ]
     },
     "execution_count": 72,
     "metadata": {},
     "output_type": "execute_result"
    }
   ],
   "source": [
    "param_grid_foret = { 'random_state' : np.arange(0,10)\n",
    "                 }\n",
    "grid_search_foret = GridSearchCV(RandomForestRegressor(), param_grid_foret, cv=5)\n",
    "grid_search_foret.fit(X_train, Y_train)"
   ]
  },
  {
   "cell_type": "code",
   "execution_count": 75,
   "metadata": {},
   "outputs": [
    {
     "name": "stdout",
     "output_type": "stream",
     "text": [
      "Score final :  -0.8141760971527285\n",
      "Meilleurs parametres:  {'random_state': 7}\n",
      "Meilleure config:  RandomForestRegressor(random_state=7)\n"
     ]
    }
   ],
   "source": [
    "print (\"Score final : \", grid_search_foret.score(X_test, Y_test))\n",
    "print (\"Meilleurs parametres: \", grid_search_foret.best_params_)\n",
    "print (\"Meilleure config: \", grid_search_foret.best_estimator_)"
   ]
  },
  {
   "cell_type": "code",
   "execution_count": 76,
   "metadata": {},
   "outputs": [
    {
     "data": {
      "text/plain": [
       "RandomForestRegressor(random_state=6)"
      ]
     },
     "execution_count": 76,
     "metadata": {},
     "output_type": "execute_result"
    }
   ],
   "source": [
    "from sklearn.ensemble import RandomForestRegressor\n",
    "from sklearn.datasets import make_regression\n",
    "model_foret = RandomForestRegressor(random_state=6)\n",
    "model_foret.fit(X_train, Y_train)"
   ]
  },
  {
   "cell_type": "code",
   "execution_count": 77,
   "metadata": {},
   "outputs": [],
   "source": [
    "y_pred_foret=model_foret.predict(X_test)"
   ]
  },
  {
   "cell_type": "code",
   "execution_count": 78,
   "metadata": {},
   "outputs": [
    {
     "name": "stdout",
     "output_type": "stream",
     "text": [
      "mean squared error : 7.630336265981367\n",
      "rmse: 2.7623063309454596\n"
     ]
    }
   ],
   "source": [
    "mse_foret=mean_squared_error(Y_test,y_pred_foret)\n",
    "print('mean squared error :',mse_foret)\n",
    "rmse_foret = sqrt(mse_foret)\n",
    "print('rmse:',rmse_foret)"
   ]
  },
  {
   "cell_type": "code",
   "execution_count": 79,
   "metadata": {},
   "outputs": [
    {
     "name": "stdout",
     "output_type": "stream",
     "text": [
      "mae = 2.114464499999999\n"
     ]
    }
   ],
   "source": [
    "from sklearn.metrics import mean_absolute_error\n",
    "mae_foret=mean_absolute_error(Y_test,y_pred_foret)\n",
    "print('mae =',mae_foret)"
   ]
  },
  {
   "cell_type": "code",
   "execution_count": 80,
   "metadata": {},
   "outputs": [
    {
     "name": "stdout",
     "output_type": "stream",
     "text": [
      "r2 = -0.7174353493948431\n"
     ]
    }
   ],
   "source": [
    "from sklearn.metrics import r2_score\n",
    "r2_foret=r2_score(Y_test,y_pred_foret)\n",
    "print ('r2 =',r2_foret)"
   ]
  },
  {
   "cell_type": "code",
   "execution_count": null,
   "metadata": {},
   "outputs": [],
   "source": []
  }
 ],
 "metadata": {
  "kernelspec": {
   "display_name": "Python 3",
   "language": "python",
   "name": "python3"
  },
  "language_info": {
   "codemirror_mode": {
    "name": "ipython",
    "version": 3
   },
   "file_extension": ".py",
   "mimetype": "text/x-python",
   "name": "python",
   "nbconvert_exporter": "python",
   "pygments_lexer": "ipython3",
   "version": "3.8.5"
  }
 },
 "nbformat": 4,
 "nbformat_minor": 4
}
