{
 "cells": [
  {
   "cell_type": "markdown",
   "metadata": {},
   "source": [
    "# Stage 2020-2021\n",
    "\n",
    "# Active Learning appliqué à l'OPV (Photovoltaïques organiques) :"
   ]
  },
  {
   "cell_type": "markdown",
   "metadata": {},
   "source": [
    "## 1- Importation des bibliothèques nécessaires :"
   ]
  },
  {
   "cell_type": "markdown",
   "metadata": {},
   "source": [
    "### a) Bibliothèques usuelles"
   ]
  },
  {
   "cell_type": "code",
   "execution_count": 1,
   "metadata": {},
   "outputs": [],
   "source": [
    "import numpy as np\n",
    "import pandas as pd\n",
    "import matplotlib.pyplot as plt\n",
    "import random"
   ]
  },
  {
   "cell_type": "markdown",
   "metadata": {},
   "source": [
    "### b) Bibliothèques du Machine Learning"
   ]
  },
  {
   "cell_type": "code",
   "execution_count": 2,
   "metadata": {},
   "outputs": [],
   "source": [
    "from sklearn.ensemble import RandomForestRegressor\n",
    "from sklearn.neighbors import KNeighborsRegressor\n",
    "from sklearn.svm import SVR"
   ]
  },
  {
   "cell_type": "markdown",
   "metadata": {},
   "source": [
    "### c) Bibliothèques de l'Active Learning"
   ]
  },
  {
   "cell_type": "code",
   "execution_count": 3,
   "metadata": {},
   "outputs": [],
   "source": [
    "from modAL.models import ActiveLearner, CommitteeRegressor\n",
    "from modAL.uncertainty import uncertainty_sampling\n",
    "from modAL.disagreement import max_std_sampling"
   ]
  },
  {
   "cell_type": "markdown",
   "metadata": {},
   "source": [
    "\n",
    "## 2- Importation des données "
   ]
  },
  {
   "cell_type": "code",
   "execution_count": 4,
   "metadata": {},
   "outputs": [
    {
     "data": {
      "text/html": [
       "<div>\n",
       "<style scoped>\n",
       "    .dataframe tbody tr th:only-of-type {\n",
       "        vertical-align: middle;\n",
       "    }\n",
       "\n",
       "    .dataframe tbody tr th {\n",
       "        vertical-align: top;\n",
       "    }\n",
       "\n",
       "    .dataframe thead th {\n",
       "        text-align: right;\n",
       "    }\n",
       "</style>\n",
       "<table border=\"1\" class=\"dataframe\">\n",
       "  <thead>\n",
       "    <tr style=\"text-align: right;\">\n",
       "      <th></th>\n",
       "      <th>exp</th>\n",
       "      <th>don_con</th>\n",
       "      <th>total_con</th>\n",
       "      <th>spin_s</th>\n",
       "      <th>addive</th>\n",
       "      <th>pce</th>\n",
       "      <th>nb_dev</th>\n",
       "    </tr>\n",
       "  </thead>\n",
       "  <tbody>\n",
       "    <tr>\n",
       "      <th>0</th>\n",
       "      <td>1</td>\n",
       "      <td>10</td>\n",
       "      <td>20</td>\n",
       "      <td>3000</td>\n",
       "      <td>2</td>\n",
       "      <td>0.05000</td>\n",
       "      <td>14</td>\n",
       "    </tr>\n",
       "    <tr>\n",
       "      <th>1</th>\n",
       "      <td>2</td>\n",
       "      <td>10</td>\n",
       "      <td>25</td>\n",
       "      <td>1000</td>\n",
       "      <td>8</td>\n",
       "      <td>3.24000</td>\n",
       "      <td>10</td>\n",
       "    </tr>\n",
       "    <tr>\n",
       "      <th>2</th>\n",
       "      <td>3</td>\n",
       "      <td>10</td>\n",
       "      <td>10</td>\n",
       "      <td>600</td>\n",
       "      <td>0</td>\n",
       "      <td>0.01600</td>\n",
       "      <td>14</td>\n",
       "    </tr>\n",
       "    <tr>\n",
       "      <th>3</th>\n",
       "      <td>4</td>\n",
       "      <td>10</td>\n",
       "      <td>15</td>\n",
       "      <td>2000</td>\n",
       "      <td>12</td>\n",
       "      <td>0.00040</td>\n",
       "      <td>10</td>\n",
       "    </tr>\n",
       "    <tr>\n",
       "      <th>4</th>\n",
       "      <td>5</td>\n",
       "      <td>25</td>\n",
       "      <td>20</td>\n",
       "      <td>600</td>\n",
       "      <td>12</td>\n",
       "      <td>7.14000</td>\n",
       "      <td>8</td>\n",
       "    </tr>\n",
       "    <tr>\n",
       "      <th>5</th>\n",
       "      <td>6</td>\n",
       "      <td>25</td>\n",
       "      <td>15</td>\n",
       "      <td>1000</td>\n",
       "      <td>2</td>\n",
       "      <td>3.22000</td>\n",
       "      <td>8</td>\n",
       "    </tr>\n",
       "    <tr>\n",
       "      <th>6</th>\n",
       "      <td>7</td>\n",
       "      <td>25</td>\n",
       "      <td>10</td>\n",
       "      <td>3000</td>\n",
       "      <td>8</td>\n",
       "      <td>0.00033</td>\n",
       "      <td>14</td>\n",
       "    </tr>\n",
       "    <tr>\n",
       "      <th>7</th>\n",
       "      <td>8</td>\n",
       "      <td>25</td>\n",
       "      <td>25</td>\n",
       "      <td>2000</td>\n",
       "      <td>0</td>\n",
       "      <td>7.21000</td>\n",
       "      <td>11</td>\n",
       "    </tr>\n",
       "    <tr>\n",
       "      <th>8</th>\n",
       "      <td>9</td>\n",
       "      <td>40</td>\n",
       "      <td>10</td>\n",
       "      <td>1000</td>\n",
       "      <td>12</td>\n",
       "      <td>1.85000</td>\n",
       "      <td>3</td>\n",
       "    </tr>\n",
       "    <tr>\n",
       "      <th>9</th>\n",
       "      <td>10</td>\n",
       "      <td>40</td>\n",
       "      <td>20</td>\n",
       "      <td>2000</td>\n",
       "      <td>8</td>\n",
       "      <td>6.16000</td>\n",
       "      <td>12</td>\n",
       "    </tr>\n",
       "    <tr>\n",
       "      <th>10</th>\n",
       "      <td>11</td>\n",
       "      <td>40</td>\n",
       "      <td>25</td>\n",
       "      <td>600</td>\n",
       "      <td>2</td>\n",
       "      <td>3.90000</td>\n",
       "      <td>11</td>\n",
       "    </tr>\n",
       "    <tr>\n",
       "      <th>11</th>\n",
       "      <td>12</td>\n",
       "      <td>40</td>\n",
       "      <td>15</td>\n",
       "      <td>3000</td>\n",
       "      <td>0</td>\n",
       "      <td>2.27000</td>\n",
       "      <td>9</td>\n",
       "    </tr>\n",
       "    <tr>\n",
       "      <th>12</th>\n",
       "      <td>13</td>\n",
       "      <td>55</td>\n",
       "      <td>10</td>\n",
       "      <td>2000</td>\n",
       "      <td>2</td>\n",
       "      <td>1.16000</td>\n",
       "      <td>3</td>\n",
       "    </tr>\n",
       "    <tr>\n",
       "      <th>13</th>\n",
       "      <td>14</td>\n",
       "      <td>55</td>\n",
       "      <td>15</td>\n",
       "      <td>600</td>\n",
       "      <td>8</td>\n",
       "      <td>3.18000</td>\n",
       "      <td>10</td>\n",
       "    </tr>\n",
       "    <tr>\n",
       "      <th>14</th>\n",
       "      <td>15</td>\n",
       "      <td>55</td>\n",
       "      <td>20</td>\n",
       "      <td>1000</td>\n",
       "      <td>0</td>\n",
       "      <td>3.89000</td>\n",
       "      <td>13</td>\n",
       "    </tr>\n",
       "  </tbody>\n",
       "</table>\n",
       "</div>"
      ],
      "text/plain": [
       "    exp  don_con  total_con  spin_s  addive      pce  nb_dev\n",
       "0     1       10         20    3000       2  0.05000      14\n",
       "1     2       10         25    1000       8  3.24000      10\n",
       "2     3       10         10     600       0  0.01600      14\n",
       "3     4       10         15    2000      12  0.00040      10\n",
       "4     5       25         20     600      12  7.14000       8\n",
       "5     6       25         15    1000       2  3.22000       8\n",
       "6     7       25         10    3000       8  0.00033      14\n",
       "7     8       25         25    2000       0  7.21000      11\n",
       "8     9       40         10    1000      12  1.85000       3\n",
       "9    10       40         20    2000       8  6.16000      12\n",
       "10   11       40         25     600       2  3.90000      11\n",
       "11   12       40         15    3000       0  2.27000       9\n",
       "12   13       55         10    2000       2  1.16000       3\n",
       "13   14       55         15     600       8  3.18000      10\n",
       "14   15       55         20    1000       0  3.89000      13"
      ]
     },
     "execution_count": 4,
     "metadata": {},
     "output_type": "execute_result"
    }
   ],
   "source": [
    "# loading dataset :\n",
    "opv =  pd.read_csv(\"C:/Users/salma/OneDrive/Bureau/Stage 2020-2021/Machine Learning/Publications/OPV_publication/Data/table1_1.csv\")\n",
    "opv"
   ]
  },
  {
   "cell_type": "markdown",
   "metadata": {},
   "source": [
    "**a)** On sépare les facteurs et la variable cible."
   ]
  },
  {
   "cell_type": "code",
   "execution_count": 5,
   "metadata": {},
   "outputs": [],
   "source": [
    "X = opv[['don_con','total_con','spin_s']]\n",
    "Y = opv['pce']"
   ]
  },
  {
   "cell_type": "code",
   "execution_count": 6,
   "metadata": {},
   "outputs": [],
   "source": [
    "X_raw=X.to_numpy()\n",
    "Y_raw=Y.to_numpy()"
   ]
  },
  {
   "cell_type": "code",
   "execution_count": 7,
   "metadata": {},
   "outputs": [
    {
     "name": "stdout",
     "output_type": "stream",
     "text": [
      "[13, 6, 12]\n"
     ]
    }
   ],
   "source": [
    "racine = 0\n",
    "n_initial = X_raw.shape[0] \n",
    "size = 3\n",
    "random.seed(racine)\n",
    "lab_indices1 =  random.sample(range(n_initial), size)\n",
    "print(lab_indices1)"
   ]
  },
  {
   "cell_type": "code",
   "execution_count": 8,
   "metadata": {},
   "outputs": [],
   "source": [
    "# Les données étiquetées.\n",
    "X_lab = X_raw[lab_indices1]\n",
    "Y_lab = Y_raw[lab_indices1] "
   ]
  },
  {
   "cell_type": "code",
   "execution_count": 9,
   "metadata": {},
   "outputs": [
    {
     "data": {
      "text/plain": [
       "array([3.18e+00, 3.30e-04, 1.16e+00])"
      ]
     },
     "execution_count": 9,
     "metadata": {},
     "output_type": "execute_result"
    }
   ],
   "source": [
    "Y_lab"
   ]
  },
  {
   "cell_type": "code",
   "execution_count": 10,
   "metadata": {},
   "outputs": [],
   "source": [
    "# Les données non-étiquetées.\n",
    "X_unlab = np.delete(X_raw, lab_indices1, axis=0) \n",
    "Y_unlab = np.delete(Y_raw, lab_indices1, axis=0)"
   ]
  },
  {
   "cell_type": "markdown",
   "metadata": {},
   "source": [
    "# Active Learning :"
   ]
  },
  {
   "cell_type": "code",
   "execution_count": 11,
   "metadata": {},
   "outputs": [],
   "source": [
    "def strat_max(pred, X_unlab, Y_unlab) :\n",
    "    m = max(pred)\n",
    "    query_index = np.argmax(pred)\n",
    "    query_instance = X_unlab[query_index]\n",
    "    label_index = Y_unlab[query_index]\n",
    "    return query_index, query_instance, m"
   ]
  },
  {
   "cell_type": "code",
   "execution_count": 16,
   "metadata": {},
   "outputs": [],
   "source": [
    "model = RandomForestRegressor(random_state=0)\n",
    "model.fit(X_lab,Y_lab)\n",
    "pred = model.predict(X_unlab)\n",
    "query_index_init, query_instance_init, label_index_init = strat_max(pred, X_unlab, Y_unlab)"
   ]
  },
  {
   "cell_type": "code",
   "execution_count": 17,
   "metadata": {},
   "outputs": [
    {
     "data": {
      "text/plain": [
       "array([1.2175848, 2.0502858, 1.2935287, 1.3915353, 2.0502858, 2.0502858,\n",
       "       1.3915353, 1.2935287, 1.3915353, 2.0502858, 1.2175848, 2.336833 ])"
      ]
     },
     "execution_count": 17,
     "metadata": {},
     "output_type": "execute_result"
    }
   ],
   "source": [
    "pred"
   ]
  },
  {
   "cell_type": "code",
   "execution_count": 18,
   "metadata": {},
   "outputs": [
    {
     "name": "stdout",
     "output_type": "stream",
     "text": [
      "2.336833000000002\n"
     ]
    }
   ],
   "source": [
    "print(label_index_init)"
   ]
  },
  {
   "cell_type": "code",
   "execution_count": 19,
   "metadata": {},
   "outputs": [
    {
     "name": "stdout",
     "output_type": "stream",
     "text": [
      "11\n",
      "[1.2175848 2.0502858 1.2935287 1.3915353 2.0502858 2.0502858 1.3915353\n",
      " 1.2935287 1.3915353 2.0502858 1.2175848]\n",
      "1\n",
      "[1.34725852 1.53506214 1.49221727 2.26302435 2.07927755 1.59164737\n",
      " 1.4338821  1.59164737 2.26302435 1.15295321]\n",
      "3\n",
      "[1.32687826 1.77823507 1.52924445 2.00239781 1.62474544 1.50881164\n",
      " 1.67067743 2.42536734 1.09722448]\n",
      "7\n",
      "[1.30250764 1.87959934 1.71655523 2.39286668 1.66259985 1.79912883\n",
      " 1.69059314 1.25154939]\n",
      "3\n",
      "[1.39754881 1.67760241 1.73964649 1.77651237 1.6257755  1.80577881\n",
      " 1.35783483]\n",
      "5\n",
      "[1.30387558 1.63405289 1.82705313 1.80461523 1.59839185 1.45072791]\n",
      "2\n",
      "[1.4705639  1.40918813 1.86855175 1.37949861 1.50598633]\n",
      "2\n",
      "[1.48756905 1.33589456 1.2849068  1.57507626]\n",
      "3\n",
      "[1.36507131 1.3858348  1.3409093 ]\n",
      "1\n",
      "[1.63360038 0.92595223]\n"
     ]
    }
   ],
   "source": [
    "n_queries = 10\n",
    "performance = []\n",
    "y_pred_max = [label_index_init]\n",
    "for index in range(n_queries):\n",
    "    model = RandomForestRegressor(random_state=0)\n",
    "    model.fit(X_lab,Y_lab)\n",
    "    query_index, query_instance, label_i = strat_max(pred, X_unlab, Y_unlab)\n",
    "    print(query_index)\n",
    "# Teach our ActiveLearner model the record it has requested.\n",
    "    y_pred_max.append(label_i)\n",
    "    X_lab, Y_lab= np.vstack([X_lab, query_instance]), np.hstack([Y_lab, label_i])    \n",
    "    X_unlab, Y_unlab = np.delete(X_unlab, query_index, axis=0), np.delete(Y_unlab, query_index)\n",
    "    # Remove the queried instance from the unlabeled pool.\n",
    "    #print(predictions)\n",
    "    pred = model.predict(X_unlab)\n",
    "    print(pred)\n",
    "    score = model.score(X,Y)\n",
    "    performance.append(score)\n",
    "    lab_indices1.append(query_index)"
   ]
  },
  {
   "cell_type": "code",
   "execution_count": 20,
   "metadata": {},
   "outputs": [
    {
     "data": {
      "text/plain": [
       "Text(0, 0.5, 'PCE prédit')"
      ]
     },
     "execution_count": 20,
     "metadata": {},
     "output_type": "execute_result"
    },
    {
     "data": {
      "image/png": "[encoded data removed]",
      "text/plain": [
       "<Figure size 432x288 with 1 Axes>"
      ]
     },
     "metadata": {
      "needs_background": "light"
     },
     "output_type": "display_data"
    }
   ],
   "source": [
    "plt.title(\"L'optimum des prédictions du modèle en fonction du nombre d'itérations\")\n",
    "plt.plot(np.arange(n_queries+1), y_pred_max, 'b')\n",
    "plt.plot(np.arange(n_queries+1), y_pred_max, 'ro')\n",
    "plt.xlabel(\"Nombres d'itérations\")\n",
    "plt.ylabel(\"PCE prédit\")"
   ]
  },
  {
   "cell_type": "code",
   "execution_count": 21,
   "metadata": {},
   "outputs": [
    {
     "data": {
      "text/plain": [
       "Text(0, 0.5, 'La performance du modèle')"
      ]
     },
     "execution_count": 21,
     "metadata": {},
     "output_type": "execute_result"
    },
    {
     "data": {
      "image/png": "[encoded data removed]",
      "text/plain": [
       "<Figure size 432x288 with 1 Axes>"
      ]
     },
     "metadata": {
      "needs_background": "light"
     },
     "output_type": "display_data"
    }
   ],
   "source": [
    "plt.title(\"Les performances du modèle en fonction du nombre de requêtes\")\n",
    "plt.plot(np.arange(1,n_queries+1), performance)\n",
    "plt.xlabel(\"Nombres de requêtes\")\n",
    "plt.ylabel(\"La performance du modèle\")"
   ]
  },
  {
   "cell_type": "code",
   "execution_count": null,
   "metadata": {},
   "outputs": [],
   "source": []
  },
  {
   "cell_type": "code",
   "execution_count": null,
   "metadata": {},
   "outputs": [],
   "source": [
    "n_queries = 10\n",
    "performance = []\n",
    "for index in range(n_queries):\n",
    "    model = RandomForestRegressor(random_state=0)\n",
    "    model.fit(X_lab,Y_lab)\n",
    "    pred = model.predict(X_unlab)\n",
    "    print(pred)\n",
    "    score = model.score(X,Y)\n",
    "    performance.append(score)\n",
    "    query_index, query_instance, label_i = strat_max(pred, X_unlab, Y_unlab)\n",
    "    print(query_index)\n",
    "# Teach our ActiveLearner model the record it has requested.\n",
    "    X_new, Y_new = X_unlab[query_index].reshape(1, -1), Y_unlab[query_index].reshape(1, )\n",
    "    X_lab, Y_lab= np.vstack([X_lab, query_instance]), np.hstack([Y_lab, label_i])    \n",
    "    X_unlab, Y_unlab = np.delete(X_unlab, query_index, axis=0), np.delete(Y_unlab, query_index)\n",
    "    # Remove the queried instance from the unlabeled pool.\n",
    "    #print(predictions)\n",
    "    lab_indices1.append(query_index)\n",
    "    plt.figure(figsize=(15, 15))\n",
    "    plt.subplot(5,2,index+1)\n",
    "    for label, data in opv.groupby('exp'): \n",
    "        p1, = plt.plot(n_queries[index], max(pred), 'ko')\n",
    "        #plt.plot(Y_unlab[query_index], )\n",
    "        #p2, = plt.plot(Y_lab, pred[lab_indices1], 'ro')\n",
    "        #p3, = plt.plot(Y[query_index], pred[query_index], 'go')\n",
    "        plt.title('iteration no %d' % (index+1))\n",
    "    plt.plot([-1, 10], [-1, 10], ls = \"--\", c = \".3\")  \n",
    "    plt.autoscale(enable = False)                    \n",
    "    plt.legend([p1,p2,p3],[\"le jeu de données\",\"données d'entraînement\",\"données rajoutées\"], loc='upper left')\n",
    "    #plt.legend(loc='upper left', frameon = True)\n",
    "    plt.xlim(0,10)                             \n",
    "    plt.ylim(0,10)\n",
    "    plt.xticks(fontsize = 15)\n",
    "    plt.yticks(fontsize = 15)\n",
    "    font = {'size': 15} \n",
    "    plt.xlabel(r'Measured pce', font)\n",
    "    plt.ylabel(r'Predicted pce', font)"
   ]
  }
 ],
 "metadata": {
  "kernelspec": {
   "display_name": "Python 3",
   "language": "python",
   "name": "python3"
  },
  "language_info": {
   "codemirror_mode": {
    "name": "ipython",
    "version": 3
   },
   "file_extension": ".py",
   "mimetype": "text/x-python",
   "name": "python",
   "nbconvert_exporter": "python",
   "pygments_lexer": "ipython3",
   "version": "3.8.5"
  }
 },
 "nbformat": 4,
 "nbformat_minor": 4
}
